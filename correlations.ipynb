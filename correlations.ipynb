{
 "cells": [
  {
   "cell_type": "markdown",
   "metadata": {},
   "source": [
    "#### 1. Load and merge SDoH and sentiment datasets"
   ]
  },
  {
   "cell_type": "code",
   "execution_count": 48,
   "metadata": {},
   "outputs": [
    {
     "name": "stdout",
     "output_type": "stream",
     "text": [
      "   encounter_id  diet  mental  access  social  total_risk     dataset  \\\n",
      "0        D2N001     0       1       0       0           1  virtassist   \n",
      "1        D2N002     0       1       0       0           1  virtassist   \n",
      "2        D2N003     0       0       0       0           0  virtassist   \n",
      "3        D2N004     0       0       0       0           0  virtassist   \n",
      "4        D2N005     0       0       0       0           0  virtassist   \n",
      "..          ...   ...     ...     ...     ...         ...         ...   \n",
      "82       D2N083     0       0       0       0           0         aci   \n",
      "83       D2N084     0       1       0       0           1         aci   \n",
      "84       D2N085     0       0       0       0           0         aci   \n",
      "85       D2N086     0       0       0       0           0         aci   \n",
      "86       D2N087     0       0       0       0           0         aci   \n",
      "\n",
      "                                             dialogue  \\\n",
      "0   [doctor] hi , martha . how are you ?\\n[patient...   \n",
      "1   [doctor] hi , andrew , how are you ?\\n[patient...   \n",
      "2   [doctor] hi , john . how are you ?\\n[patient] ...   \n",
      "3   [doctor] hi , james , how are you ?\\n[patient]...   \n",
      "4   [doctor] hey , ms. hill . nice to see you .\\n[...   \n",
      "..                                                ...   \n",
      "82  [doctor] hey lawrence how're you doing\\n[patie...   \n",
      "83  [doctor] alright david so you were just in the...   \n",
      "84  [doctor] hi russell how are you what's been go...   \n",
      "85  [doctor] hey nicholas nice to see you today yo...   \n",
      "86  [doctor] hi richard how are you the medical as...   \n",
      "\n",
      "                                                 note doctor_name  ...  \\\n",
      "0   CHIEF COMPLAINT\\n\\nAnnual exam.\\n\\nHISTORY OF ...         NaN  ...   \n",
      "1   CHIEF COMPLAINT\\n\\nJoint pain.\\n\\nHISTORY OF P...         NaN  ...   \n",
      "2   CHIEF COMPLAINT\\n\\nBack pain.\\n\\nHISTORY OF PR...         NaN  ...   \n",
      "3   CHIEF COMPLAINT\\n\\nBack pain.\\n\\nHISTORY OF PR...         NaN  ...   \n",
      "4   CC:\\n\\nRight middle finger pain.\\n\\nHPI:\\n\\nMs...         NaN  ...   \n",
      "..                                                ...         ...  ...   \n",
      "82  CHIEF COMPLAINT\\n\\nRight elbow pain.\\n\\nHISTOR...         NaN  ...   \n",
      "83  CHIEF COMPLAINT\\n\\nFollow up.\\n\\nSOCIAL HISTOR...         NaN  ...   \n",
      "84  CHIEF COMPLAINT\\n\\nRight-sided abdominal pain\\...         NaN  ...   \n",
      "85  CHIEF COMPLAINT\\n\\nNon-healing ulcer on his ri...         NaN  ...   \n",
      "86  CHIEF COMPLAINT\\n\\nTick bite.\\n\\nMEDICAL HISTO...         NaN  ...   \n",
      "\n",
      "   doctor_dialogue_pos doctor_dialogue_compound patient_dialogue_neg  \\\n",
      "0                0.156                   0.9972                0.071   \n",
      "1                0.139                   0.9935                0.143   \n",
      "2                0.126                   0.9697                0.079   \n",
      "3                0.128                   0.9929                0.091   \n",
      "4                0.098                  -0.7953                0.125   \n",
      "..                 ...                      ...                  ...   \n",
      "82               0.116                   0.5818                0.156   \n",
      "83               0.255                   0.9994                0.014   \n",
      "84               0.130                   0.9893                0.096   \n",
      "85               0.083                   0.9591                0.023   \n",
      "86               0.189                   0.9992                0.093   \n",
      "\n",
      "   patient_dialogue_neu patient_dialogue_pos patient_dialogue_compound  \\\n",
      "0                 0.716                0.213                    0.9873   \n",
      "1                 0.638                0.218                    0.9628   \n",
      "2                 0.698                0.223                    0.9952   \n",
      "3                 0.648                0.261                    0.9951   \n",
      "4                 0.654                0.220                    0.9701   \n",
      "..                  ...                  ...                       ...   \n",
      "82                0.718                0.126                   -0.7700   \n",
      "83                0.763                0.222                    0.9956   \n",
      "84                0.731                0.173                    0.1585   \n",
      "85                0.865                0.113                    0.9971   \n",
      "86                0.760                0.147                    0.9843   \n",
      "\n",
      "   neg_diff neu_diff  pos_diff  compound_diff  \n",
      "0    -0.004    0.061    -0.057         0.0099  \n",
      "1    -0.087    0.167    -0.079         0.0307  \n",
      "2    -0.007    0.104    -0.097        -0.0255  \n",
      "3    -0.037    0.170    -0.133        -0.0022  \n",
      "4    -0.021    0.144    -0.122        -1.7654  \n",
      "..      ...      ...       ...            ...  \n",
      "82   -0.073    0.083    -0.010         1.3518  \n",
      "83    0.029   -0.061     0.033         0.0038  \n",
      "84   -0.026    0.069    -0.043         0.8308  \n",
      "85    0.010    0.019    -0.030        -0.0380  \n",
      "86   -0.019   -0.023     0.042         0.0149  \n",
      "\n",
      "[87 rows x 30 columns]\n"
     ]
    },
    {
     "name": "stderr",
     "output_type": "stream",
     "text": [
      "/var/folders/_0/75690l151gjdsc12hz_b0n3w0000gn/T/ipykernel_4703/2879494204.py:15: FutureWarning: Downcasting behavior in `replace` is deprecated and will be removed in a future version. To retain the old behavior, explicitly call `result.infer_objects(copy=False)`. To opt-in to the future behavior, set `pd.set_option('future.no_silent_downcasting', True)`\n",
      "  merged_df.replace({'N': 0, 'Y': 1}, inplace=True)\n"
     ]
    }
   ],
   "source": [
    "import pandas as pd\n",
    "import scipy.stats as stats\n",
    "\n",
    "# Load the CSV files\n",
    "risk_scores_df = pd.read_csv('sdoh_output/combined_df_sPaRS.csv')  \n",
    "sentiments_df = pd.read_csv('sentiment_output/aci_combined_sentiment.csv')    \n",
    "\n",
    "# Merge the two dataframes on 'encounter_id'\n",
    "# Rename encounter_ID to encounter_id\n",
    "risk_scores_df = risk_scores_df.rename(columns={'encounter_ID': 'encounter_id'})\n",
    "merged_df = pd.merge(risk_scores_df, sentiments_df, on='encounter_id')\n",
    "\n",
    "# Make sure all scores are numeric\n",
    "merged_df.replace({'N': 0, 'Y': 1}, inplace=True)\n",
    "print(merged_df)"
   ]
  },
  {
   "cell_type": "markdown",
   "metadata": {},
   "source": [
    "## 2. Calculate correlation between compound SDoH risk and each sentiment score"
   ]
  },
  {
   "cell_type": "code",
   "execution_count": 54,
   "metadata": {},
   "outputs": [
    {
     "name": "stdout",
     "output_type": "stream",
     "text": [
      "Correlation between total risk score and sentiment scores and difference:\n",
      "doctor_dialogue_compound     0.196542\n",
      "patient_dialogue_compound    0.028340\n",
      "compound_diff                0.043300\n",
      "Name: total_risk, dtype: float64\n",
      "\n",
      "P-values for correlations with total risk score:\n",
      "doctor_dialogue_compound      0.06807\n",
      "patient_dialogue_compound    0.794429\n",
      "compound_diff                0.690469\n",
      "Name: total_risk, dtype: object\n"
     ]
    }
   ],
   "source": [
    "\n",
    "# Calculate the correlation matrix\n",
    "correlations = merged_df[['total_risk', 'doctor_dialogue_compound', 'patient_dialogue_compound', 'compound_diff']].corr(method='spearman')\n",
    "\n",
    "# Function to calculate p-values for the correlations\n",
    "def calculate_p_values(df):\n",
    "    p_values = pd.DataFrame(index=df.columns, columns=df.columns)\n",
    "    for row in df.columns:\n",
    "        for col in df.columns:\n",
    "            _, p_value = stats.spearmanr(df[row], df[col])\n",
    "            p_values.loc[row, col] = p_value\n",
    "    return p_values\n",
    "\n",
    "# Calculate p-values for the correlation matrix\n",
    "p_values = calculate_p_values(merged_df[['total_risk', 'doctor_dialogue_compound', 'patient_dialogue_compound', 'compound_diff']])\n",
    "\n",
    "# Extract correlations of 'total_risk' with each sentiment score\n",
    "total_risk_correlations = correlations['total_risk'][1:]\n",
    "\n",
    "# Extract p-values for 'total_risk' with each sentiment score\n",
    "total_risk_p_values = p_values['total_risk'][1:]\n",
    "\n",
    "# Print the results\n",
    "print(\"Correlation between total risk score and sentiment scores and difference:\")\n",
    "print(total_risk_correlations)\n",
    "\n",
    "print(\"\\nP-values for correlations with total risk score:\")\n",
    "print(total_risk_p_values)"
   ]
  },
  {
   "cell_type": "markdown",
   "metadata": {},
   "source": [
    "## 3. Calculate correlation between diet risk and each sentiment score"
   ]
  },
  {
   "cell_type": "code",
   "execution_count": 55,
   "metadata": {},
   "outputs": [
    {
     "name": "stdout",
     "output_type": "stream",
     "text": [
      "Correlation between diet risk score and sentiment scores and difference:\n",
      "doctor_dialogue_compound     0.126694\n",
      "patient_dialogue_compound    0.204447\n",
      "compound_diff               -0.174337\n",
      "Name: diet, dtype: float64\n",
      "\n",
      "P-values for correlations with diet risk score:\n",
      "doctor_dialogue_compound     0.242264\n",
      "patient_dialogue_compound      0.0575\n",
      "compound_diff                0.106314\n",
      "Name: diet, dtype: object\n"
     ]
    }
   ],
   "source": [
    "## Calculate correlation between 'diet' and each sentiment score\n",
    "\n",
    "# Calculate the correlation matrix\n",
    "correlations = merged_df[['diet', 'doctor_dialogue_compound', 'patient_dialogue_compound', 'compound_diff']].corr(method='spearman')\n",
    "\n",
    "# Function to calculate p-values for the correlations\n",
    "def calculate_p_values(df):\n",
    "    p_values = pd.DataFrame(index=df.columns, columns=df.columns)\n",
    "    for row in df.columns:\n",
    "        for col in df.columns:\n",
    "            _, p_value = stats.spearmanr(df[row], df[col])\n",
    "            p_values.loc[row, col] = p_value\n",
    "    return p_values\n",
    "\n",
    "# Calculate p-values for the correlation matrix\n",
    "p_values = calculate_p_values(merged_df[['diet', 'doctor_dialogue_compound', 'patient_dialogue_compound', 'compound_diff']])\n",
    "\n",
    "# Extract correlations of 'diet' with each sentiment score\n",
    "diet_risk_correlations = correlations['diet'][1:]\n",
    "\n",
    "# Extract p-values for 'diet' with each sentiment score\n",
    "diet_risk_p_values = p_values['diet'][1:]\n",
    "\n",
    "# Print the results\n",
    "print(\"Correlation between diet risk score and sentiment scores and difference:\")\n",
    "print(diet_risk_correlations)\n",
    "\n",
    "print(\"\\nP-values for correlations with diet risk score:\")\n",
    "print(diet_risk_p_values)"
   ]
  },
  {
   "cell_type": "markdown",
   "metadata": {},
   "source": [
    "## 4. Calculate correlation between mental health risk and each sentiment score"
   ]
  },
  {
   "cell_type": "code",
   "execution_count": 51,
   "metadata": {},
   "outputs": [
    {
     "name": "stdout",
     "output_type": "stream",
     "text": [
      "Correlation between mental risk score and each sentiment difference:\n",
      "doctor_dialogue_compound     0.186396\n",
      "patient_dialogue_compound   -0.037276\n",
      "compound_diff                0.128849\n",
      "Name: mental, dtype: float64\n",
      "\n",
      "P-values for correlations with mental risk score:\n",
      "doctor_dialogue_compound     0.083877\n",
      "patient_dialogue_compound    0.731768\n",
      "compound_diff                 0.23428\n",
      "Name: mental, dtype: object\n"
     ]
    }
   ],
   "source": [
    "## Calculate correlation between 'mental' and each sentiment score\n",
    "\n",
    "# Calculate the correlation matrix\n",
    "correlations = merged_df[['mental', 'doctor_dialogue_compound', 'patient_dialogue_compound', 'compound_diff']].corr(method='spearman')\n",
    "\n",
    "# Function to calculate p-values for the correlations\n",
    "def calculate_p_values(df):\n",
    "    p_values = pd.DataFrame(index=df.columns, columns=df.columns)\n",
    "    for row in df.columns:\n",
    "        for col in df.columns:\n",
    "            _, p_value = stats.spearmanr(df[row], df[col])\n",
    "            p_values.loc[row, col] = p_value\n",
    "    return p_values\n",
    "\n",
    "# Calculate p-values for the correlation matrix\n",
    "p_values = calculate_p_values(merged_df[['mental', 'doctor_dialogue_compound', 'patient_dialogue_compound', 'compound_diff']])\n",
    "\n",
    "# Extract correlations of 'mental' with each sentiment score\n",
    "mental_risk_correlations = correlations['mental'][1:]\n",
    "\n",
    "# Extract p-values for 'mental' with each sentiment score\n",
    "mental_risk_p_values = p_values['mental'][1:]\n",
    "\n",
    "# Print the results\n",
    "print(\"Correlation between mental risk score and sentiment scores and difference:\")\n",
    "print(mental_risk_correlations)\n",
    "\n",
    "print(\"\\nP-values for correlations with mental risk score:\")\n",
    "print(mental_risk_p_values)"
   ]
  },
  {
   "cell_type": "markdown",
   "metadata": {},
   "source": [
    "## 5. Calculate correlation between med risk and each sentiment score"
   ]
  },
  {
   "cell_type": "code",
   "execution_count": 52,
   "metadata": {},
   "outputs": [
    {
     "name": "stdout",
     "output_type": "stream",
     "text": [
      "Correlation between access risk score and each sentiment difference:\n",
      "doctor_dialogue_compound    -0.004295\n",
      "patient_dialogue_compound   -0.154588\n",
      "compound_diff                0.158876\n",
      "Name: access, dtype: float64\n",
      "\n",
      "P-values for correlations with access risk score:\n",
      "doctor_dialogue_compound      0.96851\n",
      "patient_dialogue_compound    0.152815\n",
      "compound_diff                0.141611\n",
      "Name: access, dtype: object\n"
     ]
    }
   ],
   "source": [
    "## Calculate correlation between access to healthcare and each sentiment score\n",
    "\n",
    "# Calculate the correlation matrix\n",
    "correlations = merged_df[['access', 'doctor_dialogue_compound', 'patient_dialogue_compound', 'compound_diff']].corr(method='spearman')\n",
    "\n",
    "# Function to calculate p-values for the correlations\n",
    "def calculate_p_values(df):\n",
    "    p_values = pd.DataFrame(index=df.columns, columns=df.columns)\n",
    "    for row in df.columns:\n",
    "        for col in df.columns:\n",
    "            _, p_value = stats.spearmanr(df[row], df[col])\n",
    "            p_values.loc[row, col] = p_value\n",
    "    return p_values\n",
    "\n",
    "# Calculate p-values for the correlation matrix\n",
    "p_values = calculate_p_values(merged_df[['access', 'doctor_dialogue_compound', 'patient_dialogue_compound', 'compound_diff']])\n",
    "\n",
    "# Extract correlations of 'access' with each sentiment score\n",
    "access_risk_correlations = correlations['access'][1:]\n",
    "\n",
    "# Extract p-values for 'access' with each sentiment score\n",
    "access_risk_p_values = p_values['access'][1:]\n",
    "\n",
    "# Print the results\n",
    "print(\"Correlation between access risk score and sentiment scores and difference:\")\n",
    "print(access_risk_correlations)\n",
    "\n",
    "print(\"\\nP-values for correlations with access risk score:\")\n",
    "print(access_risk_p_values)"
   ]
  },
  {
   "cell_type": "markdown",
   "metadata": {},
   "source": [
    "## 6. Calculate correlation between social risk and each sentiment score"
   ]
  },
  {
   "cell_type": "code",
   "execution_count": 53,
   "metadata": {},
   "outputs": [
    {
     "name": "stdout",
     "output_type": "stream",
     "text": [
      "Correlation between social risk score and each sentiment difference:\n",
      "doctor_dialogue_compound    -0.099359\n",
      "patient_dialogue_compound    0.029805\n",
      "compound_diff               -0.099346\n",
      "Name: social, dtype: float64\n",
      "\n",
      "P-values for correlations with social risk score:\n",
      "doctor_dialogue_compound     0.359864\n",
      "patient_dialogue_compound    0.784052\n",
      "compound_diff                0.359928\n",
      "Name: social, dtype: object\n"
     ]
    }
   ],
   "source": [
    "## Calculate correlation between lack of social support and each sentiment score\n",
    "\n",
    "# Calculate the correlation matrix\n",
    "correlations = merged_df[['social', 'doctor_dialogue_compound', 'patient_dialogue_compound', 'compound_diff']].corr(method='spearman')\n",
    "\n",
    "# Function to calculate p-values for the correlations\n",
    "def calculate_p_values(df):\n",
    "    p_values = pd.DataFrame(index=df.columns, columns=df.columns)\n",
    "    for row in df.columns:\n",
    "        for col in df.columns:\n",
    "            _, p_value = stats.spearmanr(df[row], df[col])\n",
    "            p_values.loc[row, col] = p_value\n",
    "    return p_values\n",
    "\n",
    "# Calculate p-values for the correlation matrix\n",
    "p_values = calculate_p_values(merged_df[['social', 'doctor_dialogue_compound', 'patient_dialogue_compound', 'compound_diff']])\n",
    "\n",
    "# Extract correlations of 'social' with each sentiment score\n",
    "social_risk_correlations = correlations['social'][1:]\n",
    "\n",
    "# Extract p-values for 'social' with each sentiment score\n",
    "social_risk_p_values = p_values['social'][1:]\n",
    "\n",
    "# Print the results\n",
    "print(\"Correlation between social risk score and sentiment scores and difference:\")\n",
    "print(social_risk_correlations)\n",
    "\n",
    "print(\"\\nP-values for correlations with social risk score:\")\n",
    "print(social_risk_p_values)"
   ]
  }
 ],
 "metadata": {
  "kernelspec": {
   "display_name": "Python 3",
   "language": "python",
   "name": "python3"
  },
  "language_info": {
   "codemirror_mode": {
    "name": "ipython",
    "version": 3
   },
   "file_extension": ".py",
   "mimetype": "text/x-python",
   "name": "python",
   "nbconvert_exporter": "python",
   "pygments_lexer": "ipython3",
   "version": "3.9.6"
  },
  "orig_nbformat": 4
 },
 "nbformat": 4,
 "nbformat_minor": 2
}
