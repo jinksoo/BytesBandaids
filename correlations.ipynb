{
 "cells": [
  {
   "cell_type": "markdown",
   "metadata": {},
   "source": [
    "#### 1. Load and merge SDoH and sentiment datasets"
   ]
  },
  {
   "cell_type": "code",
   "execution_count": 35,
   "metadata": {},
   "outputs": [
    {
     "name": "stdout",
     "output_type": "stream",
     "text": [
      "   encounter_id  diet  mental  meds  social  total_risk     dataset  \\\n",
      "0        D2N001     0       1     0       1           2  virtassist   \n",
      "1        D2N002     0       0     1       0           1  virtassist   \n",
      "2        D2N003     0       0     1       0           1  virtassist   \n",
      "3        D2N004     0       1     0       1           2  virtassist   \n",
      "4        D2N005     1       0     0       0           1  virtassist   \n",
      "..          ...   ...     ...   ...     ...         ...         ...   \n",
      "62       D2N063     1       0     0       1           2         aci   \n",
      "63       D2N064     0       0     0       0           0         aci   \n",
      "64       D2N065     0       1     0       0           1         aci   \n",
      "65       D2N066     1       1     0       0           2         aci   \n",
      "66       D2N067     0       1     0       1           2         aci   \n",
      "\n",
      "                                             dialogue  \\\n",
      "0   [doctor] hi , martha . how are you ?\\n[patient...   \n",
      "1   [doctor] hi , andrew , how are you ?\\n[patient...   \n",
      "2   [doctor] hi , john . how are you ?\\n[patient] ...   \n",
      "3   [doctor] hi , james , how are you ?\\n[patient]...   \n",
      "4   [doctor] hey , ms. hill . nice to see you .\\n[...   \n",
      "..                                                ...   \n",
      "62  [doctor] so gloria is a 46 -year-old female to...   \n",
      "63  [doctor] hey matthew how're you doing\\n[patien...   \n",
      "64  [doctor] hey anna good to see you today so i'm...   \n",
      "65  [doctor] hey gabriel i'm doctor scott good to ...   \n",
      "66  [doctor] hi elizabeth so i see that you were e...   \n",
      "\n",
      "                                                 note doctor_name  ...  \\\n",
      "0   CHIEF COMPLAINT\\n\\nAnnual exam.\\n\\nHISTORY OF ...         NaN  ...   \n",
      "1   CHIEF COMPLAINT\\n\\nJoint pain.\\n\\nHISTORY OF P...         NaN  ...   \n",
      "2   CHIEF COMPLAINT\\n\\nBack pain.\\n\\nHISTORY OF PR...         NaN  ...   \n",
      "3   CHIEF COMPLAINT\\n\\nBack pain.\\n\\nHISTORY OF PR...         NaN  ...   \n",
      "4   CC:\\n\\nRight middle finger pain.\\n\\nHPI:\\n\\nMs...         NaN  ...   \n",
      "..                                                ...         ...  ...   \n",
      "62  CHIEF COMPLAINT\\n\\nDyspnea.\\n\\nMEDICAL HISTORY...         NaN  ...   \n",
      "63  CHIEF COMPLAINT\\n\\nLeft ankle pain.\\n\\nHISTORY...         NaN  ...   \n",
      "64  CHIEF COMPLAINT\\n\\nRight ankle pain.\\n\\nHISTOR...         NaN  ...   \n",
      "65  CHIEF COMPLAINT\\n\\nBack pain evaluation.\\n\\nME...  scott good  ...   \n",
      "66  CHIEF COMPLAINT\\n\\nRight knee injury.\\n\\nHISTO...         NaN  ...   \n",
      "\n",
      "   doctor_dialogue_pos  doctor_dialogue_compound patient_dialogue_neg  \\\n",
      "0                0.156                    0.9972                0.071   \n",
      "1                0.139                    0.9935                0.143   \n",
      "2                0.126                    0.9697                0.079   \n",
      "3                0.128                    0.9929                0.091   \n",
      "4                0.098                   -0.7953                0.125   \n",
      "..                 ...                       ...                  ...   \n",
      "62               0.125                    0.9964                0.176   \n",
      "63               0.151                    0.9962                0.107   \n",
      "64               0.175                    0.9974                0.092   \n",
      "65               0.138                    0.9964                0.110   \n",
      "66               0.229                    0.9994                0.147   \n",
      "\n",
      "   patient_dialogue_neu patient_dialogue_pos patient_dialogue_compound  \\\n",
      "0                 0.716                0.213                    0.9873   \n",
      "1                 0.638                0.218                    0.9628   \n",
      "2                 0.698                0.223                    0.9952   \n",
      "3                 0.648                0.261                    0.9951   \n",
      "4                 0.654                0.220                    0.9701   \n",
      "..                  ...                  ...                       ...   \n",
      "62                0.731                0.093                   -0.9734   \n",
      "63                0.753                0.140                    0.8306   \n",
      "64                0.606                0.303                    0.9960   \n",
      "65                0.725                0.165                    0.9517   \n",
      "66                0.673                0.180                    0.9227   \n",
      "\n",
      "   neg_diff neu_diff  pos_diff  compound_diff  \n",
      "0    -0.004    0.061    -0.057         0.0099  \n",
      "1    -0.087    0.167    -0.079         0.0307  \n",
      "2    -0.007    0.104    -0.097        -0.0255  \n",
      "3    -0.037    0.170    -0.133        -0.0022  \n",
      "4    -0.021    0.144    -0.122        -1.7654  \n",
      "..      ...      ...       ...            ...  \n",
      "62   -0.114    0.082     0.032         1.9698  \n",
      "63   -0.069    0.058     0.011         0.1656  \n",
      "64   -0.009    0.136    -0.128         0.0014  \n",
      "65   -0.028    0.055    -0.027         0.0447  \n",
      "66   -0.068    0.019     0.049         0.0767  \n",
      "\n",
      "[67 rows x 30 columns]\n"
     ]
    },
    {
     "name": "stderr",
     "output_type": "stream",
     "text": [
      "/var/folders/_0/75690l151gjdsc12hz_b0n3w0000gn/T/ipykernel_4703/3771977128.py:14: FutureWarning: Downcasting behavior in `replace` is deprecated and will be removed in a future version. To retain the old behavior, explicitly call `result.infer_objects(copy=False)`. To opt-in to the future behavior, set `pd.set_option('future.no_silent_downcasting', True)`\n",
      "  merged_df.replace({'N': 0, 'Y': 1}, inplace=True)\n"
     ]
    }
   ],
   "source": [
    "import pandas as pd\n",
    "import scipy.stats as stats\n",
    "\n",
    "# Load the CSV files\n",
    "risk_scores_df = pd.read_csv('sdoh_output/df_sPaRSoutput_updated.csv')  # replace with your file path\n",
    "sentiments_df = pd.read_csv('sentiment_output/aci_train_sentiment.csv')    # replace with your file path\n",
    "\n",
    "# Merge the two dataframes on 'encounter_id'\n",
    "# Rename encounter_ID to encounter_id\n",
    "risk_scores_df = risk_scores_df.rename(columns={'encounter_ID': 'encounter_id'})\n",
    "merged_df = pd.merge(risk_scores_df, sentiments_df, on='encounter_id')\n",
    "\n",
    "# Make sure all scores are numeric\n",
    "merged_df.replace({'N': 0, 'Y': 1}, inplace=True)\n",
    "merged_df[['meds', 'doctor_dialogue_compound', 'patient_dialogue_compound', 'compound_diff']] = merged_df[['meds', 'doctor_dialogue_compound', 'patient_dialogue_compound', 'compound_diff']].apply(pd.to_numeric, errors='coerce')\n",
    "print(merged_df)"
   ]
  },
  {
   "cell_type": "markdown",
   "metadata": {},
   "source": [
    "## 2. Calculate correlation between compound SDoH risk and each sentiment score"
   ]
  },
  {
   "cell_type": "code",
   "execution_count": 46,
   "metadata": {},
   "outputs": [
    {
     "name": "stdout",
     "output_type": "stream",
     "text": [
      "Correlation between total risk score and each sentiment difference:\n",
      "doctor_dialogue_compound     0.196657\n",
      "patient_dialogue_compound    0.049950\n",
      "compound_diff                0.027714\n",
      "Name: total_risk, dtype: float64\n",
      "\n",
      "P-values for correlations with total risk score:\n",
      "doctor_dialogue_compound     0.110704\n",
      "patient_dialogue_compound    0.688114\n",
      "compound_diff                0.823831\n",
      "Name: total_risk, dtype: object\n"
     ]
    }
   ],
   "source": [
    "\n",
    "# Calculate the correlation matrix\n",
    "correlations = merged_df[['total_risk', 'doctor_dialogue_compound', 'patient_dialogue_compound', 'compound_diff']].corr(method='spearman')\n",
    "\n",
    "# Function to calculate p-values for the correlations\n",
    "def calculate_p_values(df):\n",
    "    p_values = pd.DataFrame(index=df.columns, columns=df.columns)\n",
    "    for row in df.columns:\n",
    "        for col in df.columns:\n",
    "            _, p_value = stats.spearmanr(df[row], df[col])\n",
    "            p_values.loc[row, col] = p_value\n",
    "    return p_values\n",
    "\n",
    "# Calculate p-values for the correlation matrix\n",
    "p_values = calculate_p_values(merged_df[['total_risk', 'doctor_dialogue_compound', 'patient_dialogue_compound', 'compound_diff']])\n",
    "\n",
    "# Extract correlations of 'total_risk' with each sentiment score\n",
    "total_risk_correlations = correlations['total_risk'][1:]\n",
    "\n",
    "# Extract p-values for 'total_risk' with each sentiment score\n",
    "total_risk_p_values = p_values['total_risk'][1:]\n",
    "\n",
    "# Print the results\n",
    "print(\"Correlation between total risk score and each sentiment difference:\")\n",
    "print(total_risk_correlations)\n",
    "\n",
    "print(\"\\nP-values for correlations with total risk score:\")\n",
    "print(total_risk_p_values)"
   ]
  },
  {
   "cell_type": "markdown",
   "metadata": {},
   "source": [
    "## 3. Calculate correlation between diet risk and each sentiment score"
   ]
  },
  {
   "cell_type": "code",
   "execution_count": 45,
   "metadata": {},
   "outputs": [
    {
     "name": "stdout",
     "output_type": "stream",
     "text": [
      "Correlation between diet risk score and each sentiment difference:\n",
      "doctor_dialogue_compound     0.172406\n",
      "patient_dialogue_compound   -0.022636\n",
      "compound_diff                0.047882\n",
      "Name: diet, dtype: float64\n",
      "\n",
      "P-values for correlations with diet risk score:\n",
      "doctor_dialogue_compound     0.162981\n",
      "patient_dialogue_compound    0.855721\n",
      "compound_diff                0.700401\n",
      "Name: diet, dtype: object\n"
     ]
    }
   ],
   "source": [
    "## Calculate correlation between 'diet' and each sentiment score\n",
    "\n",
    "# Calculate the correlation matrix\n",
    "correlations = merged_df[['diet', 'doctor_dialogue_compound', 'patient_dialogue_compound', 'compound_diff']].corr(method='spearman')\n",
    "\n",
    "# Function to calculate p-values for the correlations\n",
    "def calculate_p_values(df):\n",
    "    p_values = pd.DataFrame(index=df.columns, columns=df.columns)\n",
    "    for row in df.columns:\n",
    "        for col in df.columns:\n",
    "            _, p_value = stats.spearmanr(df[row], df[col])\n",
    "            p_values.loc[row, col] = p_value\n",
    "    return p_values\n",
    "\n",
    "# Calculate p-values for the correlation matrix\n",
    "p_values = calculate_p_values(merged_df[['diet', 'doctor_dialogue_compound', 'patient_dialogue_compound', 'compound_diff']])\n",
    "\n",
    "# Extract correlations of 'diet' with each sentiment score\n",
    "diet_risk_correlations = correlations['diet'][1:]\n",
    "\n",
    "# Extract p-values for 'diet' with each sentiment score\n",
    "diet_risk_p_values = p_values['diet'][1:]\n",
    "\n",
    "# Print the results\n",
    "print(\"Correlation between diet risk score and each sentiment difference:\")\n",
    "print(diet_risk_correlations)\n",
    "\n",
    "print(\"\\nP-values for correlations with diet risk score:\")\n",
    "print(diet_risk_p_values)"
   ]
  },
  {
   "cell_type": "markdown",
   "metadata": {},
   "source": [
    "## 4. Calculate correlation between mental health risk and each sentiment score"
   ]
  },
  {
   "cell_type": "code",
   "execution_count": 44,
   "metadata": {},
   "outputs": [
    {
     "name": "stdout",
     "output_type": "stream",
     "text": [
      "Correlation between mental risk score and each sentiment difference:\n",
      "doctor_dialogue_compound     0.088246\n",
      "patient_dialogue_compound    0.162538\n",
      "compound_diff               -0.106032\n",
      "Name: mental, dtype: float64\n",
      "\n",
      "P-values for correlations with mental risk score:\n",
      "doctor_dialogue_compound     0.477632\n",
      "patient_dialogue_compound    0.188794\n",
      "compound_diff                0.393114\n",
      "Name: mental, dtype: object\n"
     ]
    }
   ],
   "source": [
    "## Calculate correlation between 'mental' and each sentiment score\n",
    "\n",
    "# Calculate the correlation matrix\n",
    "correlations = merged_df[['mental', 'doctor_dialogue_compound', 'patient_dialogue_compound', 'compound_diff']].corr(method='spearman')\n",
    "\n",
    "# Function to calculate p-values for the correlations\n",
    "def calculate_p_values(df):\n",
    "    p_values = pd.DataFrame(index=df.columns, columns=df.columns)\n",
    "    for row in df.columns:\n",
    "        for col in df.columns:\n",
    "            _, p_value = stats.spearmanr(df[row], df[col])\n",
    "            p_values.loc[row, col] = p_value\n",
    "    return p_values\n",
    "\n",
    "# Calculate p-values for the correlation matrix\n",
    "p_values = calculate_p_values(merged_df[['mental', 'doctor_dialogue_compound', 'patient_dialogue_compound', 'compound_diff']])\n",
    "\n",
    "# Extract correlations of 'mental' with each sentiment score\n",
    "mental_risk_correlations = correlations['mental'][1:]\n",
    "\n",
    "# Extract p-values for 'mental' with each sentiment score\n",
    "mental_risk_p_values = p_values['mental'][1:]\n",
    "\n",
    "# Print the results\n",
    "print(\"Correlation between mental risk score and each sentiment difference:\")\n",
    "print(mental_risk_correlations)\n",
    "\n",
    "print(\"\\nP-values for correlations with mental risk score:\")\n",
    "print(mental_risk_p_values)"
   ]
  },
  {
   "cell_type": "markdown",
   "metadata": {},
   "source": [
    "## 5. Calculate correlation between med risk and each sentiment score"
   ]
  },
  {
   "cell_type": "code",
   "execution_count": 43,
   "metadata": {},
   "outputs": [
    {
     "name": "stdout",
     "output_type": "stream",
     "text": [
      "Correlation between meds risk score and each sentiment difference:\n",
      "doctor_dialogue_compound    -0.192715\n",
      "patient_dialogue_compound   -0.195539\n",
      "compound_diff                0.116748\n",
      "Name: meds, dtype: float64\n",
      "\n",
      "P-values for correlations with meds risk score:\n",
      "doctor_dialogue_compound     0.118185\n",
      "patient_dialogue_compound    0.112787\n",
      "compound_diff                0.346774\n",
      "Name: meds, dtype: object\n"
     ]
    }
   ],
   "source": [
    "## Calculate correlation between 'meds' and each sentiment score\n",
    "\n",
    "# Calculate the correlation matrix\n",
    "correlations = merged_df[['meds', 'doctor_dialogue_compound', 'patient_dialogue_compound', 'compound_diff']].corr(method='spearman')\n",
    "\n",
    "# Function to calculate p-values for the correlations\n",
    "def calculate_p_values(df):\n",
    "    p_values = pd.DataFrame(index=df.columns, columns=df.columns)\n",
    "    for row in df.columns:\n",
    "        for col in df.columns:\n",
    "            _, p_value = stats.spearmanr(df[row], df[col])\n",
    "            p_values.loc[row, col] = p_value\n",
    "    return p_values\n",
    "\n",
    "# Calculate p-values for the correlation matrix\n",
    "p_values = calculate_p_values(merged_df[['meds', 'doctor_dialogue_compound', 'patient_dialogue_compound', 'compound_diff']])\n",
    "\n",
    "# Extract correlations of 'meds' with each sentiment score\n",
    "meds_risk_correlations = correlations['meds'][1:]\n",
    "\n",
    "# Extract p-values for 'meds' with each sentiment score\n",
    "meds_risk_p_values = p_values['meds'][1:]\n",
    "\n",
    "# Print the results\n",
    "print(\"Correlation between meds risk score and each sentiment difference:\")\n",
    "print(meds_risk_correlations)\n",
    "\n",
    "print(\"\\nP-values for correlations with meds risk score:\")\n",
    "print(meds_risk_p_values)"
   ]
  },
  {
   "cell_type": "markdown",
   "metadata": {},
   "source": [
    "## 6. Calculate correlation between social risk and each sentiment score"
   ]
  },
  {
   "cell_type": "code",
   "execution_count": 40,
   "metadata": {},
   "outputs": [
    {
     "name": "stdout",
     "output_type": "stream",
     "text": [
      "Correlation between social risk score and each sentiment difference:\n",
      "doctor_dialogue_compound     0.238145\n",
      "patient_dialogue_compound    0.137600\n",
      "compound_diff               -0.029275\n",
      "Name: social, dtype: float64\n",
      "\n",
      "P-values for correlations with social risk score:\n",
      "doctor_dialogue_compound     0.052302\n",
      "patient_dialogue_compound    0.266825\n",
      "compound_diff                0.814078\n",
      "Name: social, dtype: object\n"
     ]
    }
   ],
   "source": [
    "## Calculate correlation between 'social' and each sentiment score\n",
    "\n",
    "# Calculate the correlation matrix\n",
    "correlations = merged_df[['social', 'doctor_dialogue_compound', 'patient_dialogue_compound', 'compound_diff']].corr(method='spearman')\n",
    "\n",
    "# Function to calculate p-values for the correlations\n",
    "def calculate_p_values(df):\n",
    "    p_values = pd.DataFrame(index=df.columns, columns=df.columns)\n",
    "    for row in df.columns:\n",
    "        for col in df.columns:\n",
    "            _, p_value = stats.spearmanr(df[row], df[col])\n",
    "            p_values.loc[row, col] = p_value\n",
    "    return p_values\n",
    "\n",
    "# Calculate p-values for the correlation matrix\n",
    "p_values = calculate_p_values(merged_df[['social', 'doctor_dialogue_compound', 'patient_dialogue_compound', 'compound_diff']])\n",
    "\n",
    "# Extract correlations of 'social' with each sentiment score\n",
    "social_risk_correlations = correlations['social'][1:]\n",
    "\n",
    "# Extract p-values for 'social' with each sentiment score\n",
    "social_risk_p_values = p_values['social'][1:]\n",
    "\n",
    "# Print the results\n",
    "print(\"Correlation between social risk score and each sentiment difference:\")\n",
    "print(social_risk_correlations)\n",
    "\n",
    "print(\"\\nP-values for correlations with social risk score:\")\n",
    "print(social_risk_p_values)"
   ]
  }
 ],
 "metadata": {
  "kernelspec": {
   "display_name": "Python 3",
   "language": "python",
   "name": "python3"
  },
  "language_info": {
   "codemirror_mode": {
    "name": "ipython",
    "version": 3
   },
   "file_extension": ".py",
   "mimetype": "text/x-python",
   "name": "python",
   "nbconvert_exporter": "python",
   "pygments_lexer": "ipython3",
   "version": "3.9.6"
  },
  "orig_nbformat": 4
 },
 "nbformat": 4,
 "nbformat_minor": 2
}
